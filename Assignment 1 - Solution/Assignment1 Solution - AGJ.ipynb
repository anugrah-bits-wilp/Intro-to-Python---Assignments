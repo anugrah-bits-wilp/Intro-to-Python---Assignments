{
 "cells": [
  {
   "cell_type": "markdown",
   "id": "a951d0dc",
   "metadata": {},
   "source": [
    "# DSECLPFDS - Python Exercises for Practice (S1 to S3)\n",
    "<b>Instructions: Do not use any Python libraries and write the following codes from scratch for best learning/ revision.</b>"
   ]
  },
  {
   "cell_type": "markdown",
   "id": "5b0afa98",
   "metadata": {},
   "source": [
    "### 1. Given a number, find the sum of its digits. Take the number as an input from the user.\n"
   ]
  },
  {
   "cell_type": "code",
   "execution_count": 1,
   "id": "d9ccc5b2",
   "metadata": {},
   "outputs": [],
   "source": [
    "def SumOfDigits(num):\n",
    "    n = int(num)\n",
    "    total=0\n",
    "    while(n>0):\n",
    "        digi=int(n%10)\n",
    "        total=total+digi\n",
    "        n=n/10\n",
    "    print(\"The total sum of digits is:\",total)"
   ]
  },
  {
   "cell_type": "code",
   "execution_count": 2,
   "id": "cd1a5103",
   "metadata": {},
   "outputs": [
    {
     "name": "stdout",
     "output_type": "stream",
     "text": [
      "Enter a number:12345\n",
      "The total sum of digits is: 15\n"
     ]
    }
   ],
   "source": [
    "getInputfromUser = int(input(\"Enter a number:\"))\n",
    "SumOfDigits(getInputfromUser)"
   ]
  },
  {
   "cell_type": "markdown",
   "id": "4eddb77b",
   "metadata": {},
   "source": [
    "### 2. Given a number, check whether the given number is an Armstrong number or not. A positive integer is called an Armstrong number of order n if: abcd... = an + bn + cn + dn + ...\n",
    "Example: 153 = 1*1*1 + 5*5*5 + 3*3*3\n",
    "153 is an Armstrong number of order 3.\n",
    "<br>Inputs from the user will be number and order n.<br>"
   ]
  },
  {
   "cell_type": "code",
   "execution_count": 3,
   "id": "53629846",
   "metadata": {},
   "outputs": [],
   "source": [
    "def isArmstrong (number,order):\n",
    "    x=int(number)\n",
    "    n=int(order)\n",
    "    temp = x\n",
    "    sum = 0\n",
    "    while (temp!=0):\n",
    "        r = int(temp%10)\n",
    "        sum = sum + (r**n)\n",
    "        temp = int(temp)/10\n",
    "  \n",
    "    # If condition satisfies\n",
    "    if (sum == x):\n",
    "        print('%d is an Amstrong Number of order %d' % (number,order))\n",
    "    else:\n",
    "        print('%d is not an Amstrong Number of order %d' % (number,order))"
   ]
  },
  {
   "cell_type": "code",
   "execution_count": 5,
   "id": "497adeba",
   "metadata": {},
   "outputs": [
    {
     "name": "stdout",
     "output_type": "stream",
     "text": [
      "Enter a number to check for amstrong and order: 153 3\n",
      "153 is an Amstrong Number of order 3\n"
     ]
    }
   ],
   "source": [
    "x, y = input(\"Enter a number to check for amstrong and order: \").split()\n",
    "number = int(x)\n",
    "order = int(y)\n",
    "isArmstrong (number,order)"
   ]
  },
  {
   "cell_type": "code",
   "execution_count": 6,
   "id": "11783d5d",
   "metadata": {},
   "outputs": [],
   "source": [
    "def isArmstrong2 (number):\n",
    "    x=int(number)\n",
    "    order=len(str(number))\n",
    "    n = order\n",
    "    temp = x\n",
    "    sum = 0\n",
    "    while (temp!=0):\n",
    "        r = int(temp%10)\n",
    "        sum = sum + (r**n)\n",
    "        temp = int(temp)/10\n",
    "  \n",
    "    # If condition satisfies\n",
    "    if (sum == x):\n",
    "        print('%d is an Amstrong Number of order %d' % (number,order))\n",
    "    else:\n",
    "        print('%d is not an Amstrong Number of order %d' % (number,order))"
   ]
  },
  {
   "cell_type": "code",
   "execution_count": 7,
   "id": "61cc9073",
   "metadata": {},
   "outputs": [
    {
     "name": "stdout",
     "output_type": "stream",
     "text": [
      "Enter a number to check for amstrong:1634\n",
      "1634 is an Amstrong Number of order 4\n"
     ]
    }
   ],
   "source": [
    "x = input(\"Enter a number to check for amstrong:\")\n",
    "number = int(x)\n",
    "isArmstrong2 (number)"
   ]
  },
  {
   "cell_type": "markdown",
   "id": "4cb7811e",
   "metadata": {},
   "source": [
    "### 3. Given a string, write a python function to check if it is palindrome or not. A string is said to be palindrome if the reverse of the string is the same as string. For example, “malayalam” is a palindrome, but “music” is not a palindrome."
   ]
  },
  {
   "cell_type": "code",
   "execution_count": 8,
   "id": "f433b14f",
   "metadata": {},
   "outputs": [],
   "source": [
    "def isPalindrome(str1):\n",
    "    string = str1.lower()\n",
    "    if (string == string[::-1]):\n",
    "        print(\"Yes, %s is Palindrome\" % str1)\n",
    "    else:\n",
    "        print(\"No, %s is not Palindrome\" % str1)"
   ]
  },
  {
   "cell_type": "code",
   "execution_count": 9,
   "id": "f2008ffa",
   "metadata": {},
   "outputs": [
    {
     "name": "stdout",
     "output_type": "stream",
     "text": [
      "Enter a string:Malayalam\n",
      "Yes, Malayalam is Palindrome\n"
     ]
    }
   ],
   "source": [
    "getStringfromUser = str(input(\"Enter a string:\"))\n",
    "isPalindrome(getStringfromUser)"
   ]
  },
  {
   "cell_type": "markdown",
   "id": "d799a9f4",
   "metadata": {},
   "source": [
    "### 4. Given an array which may contain duplicates, print all elements and their frequencies."
   ]
  },
  {
   "cell_type": "code",
   "execution_count": 10,
   "id": "72cbb85c",
   "metadata": {},
   "outputs": [],
   "source": [
    "def CountFrequency(arr):\n",
    "    n=len(arr)\n",
    "    findFrequency={}\n",
    "    for i in range(n):\n",
    "        if arr[i] in findFrequency.keys():\n",
    "            findFrequency[arr[i]]+=1\n",
    "        else:\n",
    "            findFrequency[arr[i]]=1\n",
    "    \n",
    "    \n",
    "    for i in findFrequency:\n",
    "        print(i,'=>',findFrequency[i])"
   ]
  },
  {
   "cell_type": "code",
   "execution_count": 11,
   "id": "67235960",
   "metadata": {},
   "outputs": [
    {
     "name": "stdout",
     "output_type": "stream",
     "text": [
      "10 => 3\n",
      "20 => 4\n",
      "5 => 1\n"
     ]
    }
   ],
   "source": [
    "arr=[10, 20, 20, 10, 10, 20, 5, 20]\n",
    "CountFrequency(arr)"
   ]
  },
  {
   "cell_type": "markdown",
   "id": "7ce5eb63",
   "metadata": {},
   "source": [
    "Using user entry"
   ]
  },
  {
   "cell_type": "code",
   "execution_count": 12,
   "id": "892678a1",
   "metadata": {},
   "outputs": [
    {
     "name": "stdout",
     "output_type": "stream",
     "text": [
      "Enter number of elements : 8\n",
      "1\n",
      "2\n",
      "5\n",
      "1\n",
      "2\n",
      "2\n",
      "5\n",
      "3\n",
      "[1, 2, 5, 1, 2, 2, 5, 3]\n",
      "1 => 2\n",
      "2 => 3\n",
      "5 => 2\n",
      "3 => 1\n"
     ]
    }
   ],
   "source": [
    "# creating an empty list\n",
    "lst = []\n",
    "  \n",
    "# number of elemetns as input\n",
    "n = int(input(\"Enter number of elements : \"))\n",
    "  \n",
    "# iterating till the range\n",
    "for i in range(0, n):\n",
    "    ele = int(input())\n",
    "  \n",
    "    lst.append(ele) # adding the element\n",
    "      \n",
    "print(lst)\n",
    "CountFrequency(lst)"
   ]
  },
  {
   "cell_type": "markdown",
   "id": "99363c5a",
   "metadata": {},
   "source": [
    "### 5. Given a number n, write a function to print all prime factors of n. For example, if the input number is 12, then output should be “2 2 3”."
   ]
  },
  {
   "cell_type": "code",
   "execution_count": 13,
   "id": "915cd5ba",
   "metadata": {},
   "outputs": [],
   "source": [
    "def primeFactors(n):\n",
    "    # Print the number of two's that divide n\n",
    "    while n % 2 == 0:\n",
    "        print(2)\n",
    "        n = int(n/2)\n",
    "    # n must be odd at this point\n",
    "    # so a skip of 2 ( i = i + 2) can be used or n//2\n",
    "    for i in range(3,int((n**0.5))+1,2):\n",
    "        # while i divides n , print i and divide n\n",
    "        while n % i == 0:\n",
    "            print(i)\n",
    "            n = int(n/i)\n",
    "    # Condition if n is a prime\n",
    "    # number greater than 2\n",
    "    if n > 2:\n",
    "        print(n)"
   ]
  },
  {
   "cell_type": "code",
   "execution_count": 14,
   "id": "390ae293",
   "metadata": {},
   "outputs": [
    {
     "name": "stdout",
     "output_type": "stream",
     "text": [
      "Enter a number to find its Prime factors:15\n",
      "3\n",
      "5\n"
     ]
    }
   ],
   "source": [
    "num = int(input(\"Enter a number to find its Prime factors:\"))\n",
    "primeFactors(num)"
   ]
  },
  {
   "cell_type": "markdown",
   "id": "8404939b",
   "metadata": {},
   "source": [
    "### 6. Given two numbers n and r, find the value of nCr (binomial coefficient: nCr = (n!) / (r! * (n-r)!))"
   ]
  },
  {
   "cell_type": "code",
   "execution_count": 15,
   "id": "2208f1bd",
   "metadata": {},
   "outputs": [],
   "source": [
    "# Find value of nCr (binomial coefficient: nCr = (n!) / (r! * (n-r)!))\n",
    "def NCR(n, r):\n",
    "    return (factorial(n) / (factorial(r) * factorial(n - r)))\n",
    " \n",
    "# Returns factorial of n\n",
    "def factorial(n):\n",
    "    result = 1\n",
    "    for i in range(2, n+1):\n",
    "        result = result * i \n",
    "    return result"
   ]
  },
  {
   "cell_type": "code",
   "execution_count": 16,
   "id": "43e43974",
   "metadata": {},
   "outputs": [
    {
     "name": "stdout",
     "output_type": "stream",
     "text": [
      "Enter n:6\n",
      "Enter r:2\n",
      "15\n"
     ]
    }
   ],
   "source": [
    "n=int(input(\"Enter n:\"))\n",
    "r=int(input(\"Enter r:\"))\n",
    "result=int(NCR(n,r))\n",
    "print(result)"
   ]
  },
  {
   "cell_type": "markdown",
   "id": "fe508188",
   "metadata": {},
   "source": [
    "### 7. Searching: Given a sorted array arr[] of n elements, write a function to search a given element x in arr[]. Do it using linear and binary search techniques."
   ]
  },
  {
   "cell_type": "code",
   "execution_count": 17,
   "id": "fb5962d3",
   "metadata": {},
   "outputs": [],
   "source": [
    "# If x is present then return its location, otherwise return -1\n",
    " \n",
    "def LinearSearch(arr, x):\n",
    "    n = len(arr)\n",
    "    for i in range(0, n):\n",
    "        if (arr[i] == x):\n",
    "            return i\n",
    "    return -1\n",
    "\n",
    "# Returns index of x in array if present, else -1\n",
    "def BinarySearch (arr, l, r, x):\n",
    "    # Check base case\n",
    "    if r >= l:\n",
    "        mid = l + (r - l) // 2\n",
    "        \n",
    "        # If element is present at the middle itself\n",
    "        if arr[mid] == x:\n",
    "            return mid\n",
    "        \n",
    "        # If element is smaller than mid, then it can only be present in the left sub-array\n",
    "        elif (arr[mid] > x):\n",
    "            return BinarySearch(arr, l, mid-1, x)\n",
    "        \n",
    "        # Else the element can only be present in the right sub-array\n",
    "        else:\n",
    "            return BinarySearch(arr, mid+1, r, x)\n",
    "    else:\n",
    "        # Element is not present in the array\n",
    "        return -1"
   ]
  },
  {
   "cell_type": "code",
   "execution_count": 18,
   "id": "d11e9e23",
   "metadata": {},
   "outputs": [
    {
     "name": "stdout",
     "output_type": "stream",
     "text": [
      "Element is present at index 3\n",
      "Element is present at index  3\n"
     ]
    }
   ],
   "source": [
    "arr = [2, 3, 4, 10, 40]\n",
    "x = 10\n",
    "\n",
    "# Function call for Linear Search\n",
    "result = LinearSearch(arr, x)\n",
    "\n",
    "if(result == -1):\n",
    "    print(\"Element is not present in array\")\n",
    "else:\n",
    "    print(\"Element is present at index\", result)\n",
    "\n",
    "\n",
    "# Function call for Binary Search\n",
    "result2 = BinarySearch(arr, 0, len(arr)-1, x)\n",
    " \n",
    "if result2 != -1:\n",
    "    print (\"Element is present at index % d\" % result2)\n",
    "else:\n",
    "    print (\"Element is not present in array\")"
   ]
  },
  {
   "cell_type": "markdown",
   "id": "17aea148",
   "metadata": {},
   "source": [
    "### 8. Input a text file (containing 1 or more paragraphs of English text) from the user, parse this file to display the frequency of occurrence of each word in this text file. Find the 3 most frequent words as well."
   ]
  },
  {
   "cell_type": "code",
   "execution_count": 21,
   "id": "3bdf6447",
   "metadata": {},
   "outputs": [
    {
     "name": "stdout",
     "output_type": "stream",
     "text": [
      "List of Words and count:\n",
      "\n",
      "the: 15\n",
      "testing: 10\n",
      "in: 9\n",
      "a: 7\n",
      ": 7\n",
      "at: 7\n",
      "to: 6\n",
      "government: 6\n",
      "people: 6\n",
      "for: 5\n",
      "only: 5\n",
      "of: 5\n",
      "and: 5\n",
      "number: 4\n",
      "has: 4\n",
      "day: 4\n",
      "come: 4\n",
      "tests: 4\n",
      "centres: 3\n",
      "centre: 3\n",
      "was: 3\n",
      "pm: 3\n",
      "not: 3\n",
      "being: 3\n",
      "have: 3\n",
      "said: 3\n",
      "but: 3\n",
      "reduced: 3\n",
      "free: 2\n",
      "covid: 2\n",
      "19: 2\n",
      "delhi: 2\n",
      "are: 2\n",
      "limited: 2\n",
      "1: 2\n",
      "done: 2\n",
      "many: 2\n",
      "came: 2\n",
      "even: 2\n",
      "were: 2\n",
      "away: 2\n",
      "is: 2\n",
      "it: 2\n",
      "week: 2\n",
      "that: 2\n",
      "had: 2\n",
      "footfall: 2\n",
      "decreased: 2\n",
      "getting: 1\n",
      "test: 1\n",
      "continues: 1\n",
      "be: 1\n",
      "challenge: 1\n",
      "as: 1\n",
      "nehru: 1\n",
      "homoeopathic: 1\n",
      "medical: 1\n",
      "college: 1\n",
      "defence: 1\n",
      "colony: 1\n",
      "which: 1\n",
      "entry: 1\n",
      "gate: 1\n",
      "closed: 1\n",
      "on: 1\n",
      "monday: 1\n",
      "we: 1\n",
      "take: 1\n",
      "50: 1\n",
      "you: 1\n",
      "will: 1\n",
      "around: 1\n",
      "5: 1\n",
      "6: 1\n",
      "am: 1\n",
      "tomorrow: 1\n",
      "stand: 1\n",
      "line: 1\n",
      "if: 1\n",
      "your: 1\n",
      "doesn't: 1\n",
      "then: 1\n",
      "youâ€™ll: 1\n",
      "another: 1\n",
      "an: 1\n",
      "official: 1\n",
      "government-run: 1\n",
      "turned: 1\n",
      "situation: 1\n",
      "similar: 1\n",
      "begumpur: 1\n",
      "100: 1\n",
      "2: 1\n",
      "they: 1\n",
      "asked: 1\n",
      "next: 1\n",
      "total: 1\n",
      "daily: 1\n",
      "city: 1\n",
      "been: 1\n",
      "less: 1\n",
      "least: 1\n",
      "past: 1\n",
      "one: 1\n",
      "despite: 1\n",
      "taking: 1\n",
      "turning: 1\n",
      "who: 1\n",
      "want: 1\n",
      "get: 1\n",
      "tested: 1\n",
      "health: 1\n",
      "minister: 1\n",
      "satyendar: 1\n",
      "jain: 1\n",
      "last: 1\n",
      "its: 1\n",
      "strategy: 1\n",
      "face: 1\n",
      "lockdown: 1\n",
      "public: 1\n",
      "movement: 1\n",
      "substantially: 1\n",
      "dropped: 1\n",
      "down: 1\n",
      "dispensaries: 1\n",
      "hospitals: 1\n",
      "because: 1\n",
      "slightly: 1\n",
      "otherwise: 1\n",
      "conducted: 1\n",
      "all: 1\n",
      "large: 1\n",
      "numbers: 1\n",
      "he: 1\n"
     ]
    }
   ],
   "source": [
    "# A file named \"news1\", will be opened with the reading mode.\n",
    "\n",
    "file = open(\"news1.txt\",\"r\")\n",
    "frequent_word = \"\"\n",
    "frequency = 0  \n",
    "words = []\n",
    "# Create an empty dictionary\n",
    "d = dict()\n",
    "myList = dict()\n",
    "  \n",
    "# Loop through each line of the file\n",
    "for line in file:\n",
    "    # Remove the leading spaces and newline character\n",
    "    line = line.strip()\n",
    "  \n",
    "    # Convert the characters in line to \n",
    "    # lowercase to avoid case mismatch\n",
    "    line = line.lower().replace(',','').replace('.','')\n",
    "    \n",
    "    # Split the line into words\n",
    "    words = line.split(\" \")\n",
    "  \n",
    "    # Iterate over each word in line\n",
    "    for word in words:\n",
    "        # Check if the word is already in dictionary\n",
    "        if word in d:\n",
    "            # Increment count of word by 1\n",
    "            d[word] = d[word] + 1\n",
    "        else:\n",
    "            # Add the word to dictionary with count 1\n",
    "            d[word] = 1\n",
    "\n",
    "# Convert the list to a dictionary\n",
    "def listDictConvert(list1):\n",
    "    result_dct=dict(list1)\n",
    "    return result_dct\n",
    "\n",
    "# Sort the dictionary by decreasing order of value(word count)\n",
    "lst1 = sorted(d.items(), key=lambda x: x[1], reverse=True)\n",
    "myList = listDictConvert(lst1)\n",
    "\n",
    "print(\"List of Words and count:\\n\")\n",
    "for key, value in myList.items():\n",
    "    print(\"%s: %s\" % (key, value))"
   ]
  },
  {
   "cell_type": "code",
   "execution_count": 23,
   "id": "2d050920",
   "metadata": {},
   "outputs": [
    {
     "name": "stdout",
     "output_type": "stream",
     "text": [
      "\n",
      "List of 3 highest frequent words and count: \n",
      "[('the', 15), ('testing', 10), ('in', 9)]\n"
     ]
    }
   ],
   "source": [
    "print(\"\\nList of 3 highest frequent words and count: \")\n",
    "print(list(myList.items())[:3])"
   ]
  },
  {
   "cell_type": "code",
   "execution_count": null,
   "id": "766dd036",
   "metadata": {},
   "outputs": [],
   "source": []
  }
 ],
 "metadata": {
  "kernelspec": {
   "display_name": "Python 3",
   "language": "python",
   "name": "python3"
  },
  "language_info": {
   "codemirror_mode": {
    "name": "ipython",
    "version": 3
   },
   "file_extension": ".py",
   "mimetype": "text/x-python",
   "name": "python",
   "nbconvert_exporter": "python",
   "pygments_lexer": "ipython3",
   "version": "3.8.8"
  }
 },
 "nbformat": 4,
 "nbformat_minor": 5
}
